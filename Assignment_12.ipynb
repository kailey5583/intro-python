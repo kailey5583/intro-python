{
  "nbformat": 4,
  "nbformat_minor": 0,
  "metadata": {
    "colab": {
      "name": "Assignment 12",
      "provenance": [],
      "authorship_tag": "ABX9TyP6coNsqvzsRIJwGWosltXX",
      "include_colab_link": true
    },
    "kernelspec": {
      "name": "python3",
      "display_name": "Python 3"
    }
  },
  "cells": [
    {
      "cell_type": "markdown",
      "metadata": {
        "id": "view-in-github",
        "colab_type": "text"
      },
      "source": [
        "<a href=\"https://colab.research.google.com/github/kailey5583/intro-python/blob/master/Assignment_12.ipynb\" target=\"_parent\"><img src=\"https://colab.research.google.com/assets/colab-badge.svg\" alt=\"Open In Colab\"/></a>"
      ]
    },
    {
      "cell_type": "code",
      "metadata": {
        "colab": {
          "base_uri": "https://localhost:8080/"
        },
        "id": "5G7ozxrNYAJh",
        "outputId": "e88e6ef3-7999-451a-fd85-2c0dd1bc7ac3"
      },
      "source": [
        "#Problem 1\n",
        "import urllib.request\n",
        "import pandas\n",
        "\n",
        "file_name = \"https://raw.githubusercontent.com/mlepinski/Python-Worksheets/master/states.csv\"\n",
        "my_file = urllib.request.urlopen(file_name)\n",
        "state_data= pandas.read_csv(my_file)\n",
        "\n",
        "median1= state_data[\"Pop\"].median()\n",
        "median_name= \" \"\n",
        "for (row_num, row)  in state_data.iterrows():\n",
        "  if row[\"Pop\"]== median1:\n",
        "    median_name= row[\"Name\"]\n",
        "print(median_name)\n",
        "\n",
        "\n",
        "\n",
        " \n",
        "\n",
        "\n",
        "\n",
        "\n",
        "\n",
        "\n",
        "\n",
        "\n"
      ],
      "execution_count": 7,
      "outputs": [
        {
          "output_type": "stream",
          "text": [
            "Colorado\n"
          ],
          "name": "stdout"
        }
      ]
    },
    {
      "cell_type": "code",
      "metadata": {
        "colab": {
          "base_uri": "https://localhost:8080/"
        },
        "id": "tJmAUGCkCQdc",
        "outputId": "9163f4ea-6f8a-47b9-ab40-844fd81f4595"
      },
      "source": [
        "#Problem 2\n",
        "import urllib.request\n",
        "import pandas\n",
        "\n",
        "file_name = \"https://raw.githubusercontent.com/mlepinski/Python-Worksheets/master/states.csv\"\n",
        "my_file = urllib.request.urlopen(file_name)\n",
        "state_data= pandas.read_csv(my_file)\n",
        "\n",
        "states_with_m= 0\n",
        "for name in state_data[\"Name\"]:\n",
        "  if name[0]== \"M\":\n",
        "    states_with_m= states_with_m + 1\n",
        "  else:\n",
        "    states_with_m= states_with_m\n",
        "print(states_with_m)\n"
      ],
      "execution_count": 10,
      "outputs": [
        {
          "output_type": "stream",
          "text": [
            "8\n"
          ],
          "name": "stdout"
        }
      ]
    },
    {
      "cell_type": "code",
      "metadata": {
        "colab": {
          "base_uri": "https://localhost:8080/",
          "height": 204
        },
        "id": "5MN4s_FkCRzU",
        "outputId": "6f87fc0d-533c-4401-ae39-ac5a21dc5664"
      },
      "source": [
        "#Problem 3\n",
        "import urllib.request\n",
        "import pandas\n",
        "\n",
        "file_name = \"https://raw.githubusercontent.com/mlepinski/Python-Worksheets/master/states.csv\"\n",
        "my_file = urllib.request.urlopen(file_name)\n",
        "state_data= pandas.read_csv(my_file)\n",
        "\n",
        "state_data[\"Pop Density\"]= state_data[\"Pop\"] / state_data[\"Area\"]\n",
        "\n",
        "state_data.head()\n",
        "\n"
      ],
      "execution_count": 11,
      "outputs": [
        {
          "output_type": "execute_result",
          "data": {
            "text/html": [
              "<div>\n",
              "<style scoped>\n",
              "    .dataframe tbody tr th:only-of-type {\n",
              "        vertical-align: middle;\n",
              "    }\n",
              "\n",
              "    .dataframe tbody tr th {\n",
              "        vertical-align: top;\n",
              "    }\n",
              "\n",
              "    .dataframe thead th {\n",
              "        text-align: right;\n",
              "    }\n",
              "</style>\n",
              "<table border=\"1\" class=\"dataframe\">\n",
              "  <thead>\n",
              "    <tr style=\"text-align: right;\">\n",
              "      <th></th>\n",
              "      <th>Name</th>\n",
              "      <th>State</th>\n",
              "      <th>Area</th>\n",
              "      <th>Pop</th>\n",
              "      <th>Pop Density</th>\n",
              "    </tr>\n",
              "  </thead>\n",
              "  <tbody>\n",
              "    <tr>\n",
              "      <th>0</th>\n",
              "      <td>Alabama</td>\n",
              "      <td>AL</td>\n",
              "      <td>52423</td>\n",
              "      <td>4040587</td>\n",
              "      <td>77.076608</td>\n",
              "    </tr>\n",
              "    <tr>\n",
              "      <th>1</th>\n",
              "      <td>Alaska</td>\n",
              "      <td>AK</td>\n",
              "      <td>656424</td>\n",
              "      <td>550043</td>\n",
              "      <td>0.837939</td>\n",
              "    </tr>\n",
              "    <tr>\n",
              "      <th>2</th>\n",
              "      <td>Arizona</td>\n",
              "      <td>AZ</td>\n",
              "      <td>114006</td>\n",
              "      <td>3665228</td>\n",
              "      <td>32.149431</td>\n",
              "    </tr>\n",
              "    <tr>\n",
              "      <th>3</th>\n",
              "      <td>Arkansas</td>\n",
              "      <td>AR</td>\n",
              "      <td>53182</td>\n",
              "      <td>2350725</td>\n",
              "      <td>44.201516</td>\n",
              "    </tr>\n",
              "    <tr>\n",
              "      <th>4</th>\n",
              "      <td>California</td>\n",
              "      <td>CA</td>\n",
              "      <td>163707</td>\n",
              "      <td>29769021</td>\n",
              "      <td>181.843299</td>\n",
              "    </tr>\n",
              "  </tbody>\n",
              "</table>\n",
              "</div>"
            ],
            "text/plain": [
              "         Name State    Area       Pop  Pop Density\n",
              "0     Alabama    AL   52423   4040587    77.076608\n",
              "1      Alaska    AK  656424    550043     0.837939\n",
              "2     Arizona    AZ  114006   3665228    32.149431\n",
              "3    Arkansas    AR   53182   2350725    44.201516\n",
              "4  California    CA  163707  29769021   181.843299"
            ]
          },
          "metadata": {
            "tags": []
          },
          "execution_count": 11
        }
      ]
    },
    {
      "cell_type": "code",
      "metadata": {
        "colab": {
          "base_uri": "https://localhost:8080/"
        },
        "id": "CTxxQWXTCThZ",
        "outputId": "e748efa2-3314-497d-88e1-df0f7e5e3935"
      },
      "source": [
        "#Problem 4\n",
        "import urllib.request\n",
        "import pandas\n",
        "\n",
        "file_name = \"https://raw.githubusercontent.com/mlepinski/Python-Worksheets/master/states.csv\"\n",
        "my_file = urllib.request.urlopen(file_name)\n",
        "state_data= pandas.read_csv(my_file)\n",
        "\n",
        "state_data[\"Pop Density\"]= state_data[\"Pop\"] / state_data[\"Area\"]\n",
        "\n",
        "median_density= state_data[\"Pop Density\"].median()\n",
        "max_density= state_data[\"Pop Density\"].max()\n",
        "min_density= state_data[\"Pop Density\"].min()\n",
        "\n",
        "median_state= \" \"\n",
        "max_state= \" \"\n",
        "min_state= \" \"\n",
        "\n",
        "for (row_num, row)  in state_data.iterrows():\n",
        "  if row[\"Pop Density\"]==median_density:\n",
        "    median_state= row[\"Name\"]\n",
        "  if row[\"Pop Density\"]==max_density:\n",
        "    max_state= row[\"Name\"]\n",
        "  if row[\"Pop Density\"]==min_density:\n",
        "    min_state= row[\"Name\"]\n",
        "print(\"the median state is\", median_state,\".\",\"the maximum state is,\", max_state,\".\", \"the minimum state is,\", min_state)\n",
        "\n"
      ],
      "execution_count": 5,
      "outputs": [
        {
          "output_type": "stream",
          "text": [
            "the median state is Wisconsin . the maximum state is, District of Columbia . the minimum state is, Alaska\n"
          ],
          "name": "stdout"
        }
      ]
    }
  ]
}