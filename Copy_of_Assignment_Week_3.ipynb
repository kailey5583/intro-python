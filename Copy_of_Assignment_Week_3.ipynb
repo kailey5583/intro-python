{
  "nbformat": 4,
  "nbformat_minor": 0,
  "metadata": {
    "colab": {
      "name": "Copy of Assignment Week 3.ipynb",
      "provenance": [],
      "include_colab_link": true
    },
    "kernelspec": {
      "name": "python3",
      "display_name": "Python 3"
    }
  },
  "cells": [
    {
      "cell_type": "markdown",
      "metadata": {
        "id": "view-in-github",
        "colab_type": "text"
      },
      "source": [
        "<a href=\"https://colab.research.google.com/github/kailey5583/intro-python/blob/master/Copy_of_Assignment_Week_3.ipynb\" target=\"_parent\"><img src=\"https://colab.research.google.com/assets/colab-badge.svg\" alt=\"Open In Colab\"/></a>"
      ]
    },
    {
      "cell_type": "markdown",
      "metadata": {
        "id": "5Hr8F8azZKy_",
        "colab_type": "text"
      },
      "source": [
        "# Assignment - Week 3 - Flow Control\n",
        "\n",
        "**PART 1 : GETTING STARTED WITH GITHUB**\n",
        "\n",
        "\n",
        "\n",
        "---\n",
        "\n",
        "\n",
        "\n",
        "In this assignment you will use what you learned from the reading and the worksheet to write your first Python programs. \n",
        "\n",
        "The first thing that I need you to do is to make a GitHub account so that you can turn in this assignment. GitHub is an online tool that is used by many computer scientists to share code and data. \n",
        "\n",
        "\n",
        "*   Go to https://www.github.com\n",
        "*   Click on the \"Sign Up\" button in the upper-right corner\n",
        "*   Fill out the form to create an account\n",
        "*   Go to https://github.com/new\n",
        "*   Create a new repository for this class\n",
        "*   Please make this repository public so that I can see your code\n",
        "*   Additionally, please click the check box to add a README file to your repository\n",
        "\n",
        "Once you have a repository, you can save files to your repository from Google Colab. To do this, go to the \"File\" menu in the corner and select \"Save a Copy in Github\". \n",
        "\n",
        "UNFORTUNATELY: Because you grabbed these instructions from My GitHub account, it wants to save back to my GitHub account (which won't work). Therefore one option is to create a new Notebook (File --> New Notebook) which you can then save to your GitHub account. \n",
        "\n",
        "(The other option is to first save a copy into Google Drive to make a new notebook that has these instructions and then since that is a new Notebook, you can save it to your GitHub account)\n",
        "\n",
        "This will require you to provide you to provide your GitHub login information to authorize Google Colab to write files into your GitHub repository. \n",
        "\n",
        "You can also put files into your GitHub repostiory without using Google Colab. You might be able to figure this out by exploring the GitHub website, but this is something that we will talk about in a future week. \n",
        "\n",
        "Finally, once you have finished the assignment and put your code in the GitHub repository, You need to go in Canvas (to the week 3 assignment page) and tell me your Github username and the name of your repository. \n",
        "\n",
        "If you have any questions about GitHub, feel free to email myself or Ellie.\n"
      ]
    },
    {
      "cell_type": "markdown",
      "metadata": {
        "id": "9e-KsmDyfOHN",
        "colab_type": "text"
      },
      "source": [
        "**PART 2 : PROGRAMMING PROBLEMS**\n",
        "\n",
        "\n",
        "\n",
        "---\n",
        "\n",
        "**REMINDER: You are encouraged to talk with your group members about the assignment, but everyone must type their own code**\n",
        "\n",
        "\n",
        "\n",
        "---\n",
        "\n",
        "Python doesn't know anything about Even numbers. I want to use Even numbers in this assignment, so I am going to write some code that allows you to ask Python the question \"Is this number Even\". \n",
        "\n",
        "When you click the button to run the next chunk of code, Python will read my definition of is_it_even and then anything that you write afterwards (down below) can use the question is_it_even and Python will understand it.\n",
        "\n",
        "Next week you will learn how to define new questions like is_it_even. \n",
        "\n"
      ]
    },
    {
      "cell_type": "code",
      "metadata": {
        "id": "lsIagqsAfwVV",
        "colab_type": "code",
        "colab": {
          "base_uri": "https://localhost:8080/",
          "height": 34
        },
        "outputId": "e99a595c-08af-4d1e-8944-6cd4cd2d69f2"
      },
      "source": [
        "def is_it_even(number):\n",
        "  if(number % 2 == 0):\n",
        "    return True\n",
        "  else:\n",
        "    return False\n",
        "\n",
        "#The code above defines the question is_it_even\n",
        "#Next I will show you an example of how to you is_it_even\n",
        "\n",
        "#When I start a line with a # symbol, Python ignores the entire line\n",
        "#I can use this feature to write comments to help you understand my code\n",
        "\n",
        "if is_it_even(5):\n",
        "  print(\"5 is an even number\")\n",
        "else:\n",
        "  print(\"5 is NOT an even number\")"
      ],
      "execution_count": 2,
      "outputs": [
        {
          "output_type": "stream",
          "text": [
            "5 is NOT an even number\n"
          ],
          "name": "stdout"
        }
      ]
    },
    {
      "cell_type": "markdown",
      "metadata": {
        "id": "Hb6MWOLEfxmT",
        "colab_type": "text"
      },
      "source": [
        "0) Write a loop that prints \"Hello World\" five times\n",
        "\n",
        "1) Write code that asks the user to enter two numbers, then print out the smaller of the two numbers. (You will need an if statement to figure out which is the smallest)\n",
        "\n",
        "2) Write code that asks the user to enter three numbers, then print out the second largest of the three numbers. (This will require some cleverness with if statements!)\n",
        "\n",
        "3) Write a for loop that looks at the numbers [3, 2, 8, 9, 17, 24] and counts how many of them are even. (You will need a variable to keep count of how many even numbers you have seen. You should increase the variable by one each time the user enters an even number)\n",
        "\n",
        "3) Write a loop that asks the user to enter five numbers and prints out how many of the numbers are even. \n",
        "\n",
        "4) Write a loop that allows the user to keep entering as many numbers as they want to and then when they are done, print out how many of the numbers were even. One way to do this is to tell the user to enter -1 to signal that they are done, and then end when you see a -1. \n",
        "\n",
        "5) Write a number guessing game. You should pick a number (assign it to a varaible in your code) and then repeatedly ask the user to guess the number. Tell the user is their guess is too high or too low, and end when the user correctly guesses your number.\n",
        "\n",
        "\n",
        "\n",
        "---\n",
        "\n",
        "---\n",
        "\n",
        "**If you have time this week, you should improve your guessing game.**\n",
        "\n",
        "6) Modify your guessing game so that it counts the number of tries that it takes the user to correclty guess the number. \n",
        "\n",
        "7) It is kind of stupid to have to pick a number and write it in your code. In particular, this means that if you want to play the game more than once, you need to actually go and change the code ... Also, if the user sees your code, they will know exaclty what to guess.\n",
        "\n",
        "A better way is to have Python pick a random number. By default, Python doesn't know how to pick a random number. Fortunately, someone already put together an explanation of how to pick random numbers, we can add this new capability to Python by \"importing\" the instructions that someone else wrote.\n",
        "\n",
        "I have code down below that shows you how to import the random number instructions and then how to ask Python to pick a random number.\n",
        "\n",
        "---\n",
        "\n",
        "--- \n",
        "\n",
        "**I don't expect you to get this next one, but it is a nice problem if you are looking to challenge yourself.**\n",
        "\n",
        "8) You could modify your guessing game to say \"getting closer\" or \"getting further away\" (i.e., \"warmer\" or \"colder\") instead of \"Too High\" or \"Too Low\"\n",
        "\n",
        "In order to do this you would need to remember how far away the last guess was (in a new variable). You can then compare how far away the new guess is with how far away the old guess was ... This will allow you to tell the user whether they are getting closer to the correct number, or if they are getting further away.\n"
      ]
    },
    {
      "cell_type": "code",
      "metadata": {
        "id": "QnMxv9iuFyMG",
        "colab_type": "code",
        "colab": {}
      },
      "source": [
        "#These instructions pick a random number\n",
        "#The random.randint command does the hard work\n",
        "#The two numbers in the parentheses are the lower bound and upper bound\n",
        "#So in this example, Python will pick a number between 1 and 100\n",
        "\n",
        "#Run this multiple times (using the Arrow Button on the left) and you will get different numbers\n",
        "\n",
        "import random\n",
        "X = random.randint(1,100)\n",
        "print(X)"
      ],
      "execution_count": null,
      "outputs": []
    },
    {
      "cell_type": "code",
      "metadata": {
        "id": "aHvro65PGp0J",
        "colab_type": "code",
        "colab": {
          "base_uri": "https://localhost:8080/",
          "height": 102
        },
        "outputId": "0869a45f-e754-4c18-864d-62d64757a4d3"
      },
      "source": [
        "#Problem 0\n",
        "for some_variable_name in range(5):\n",
        "  print(\"Hello World!\")\n",
        "\n"
      ],
      "execution_count": null,
      "outputs": [
        {
          "output_type": "stream",
          "text": [
            "Hello World!\n",
            "Hello World!\n",
            "Hello World!\n",
            "Hello World!\n",
            "Hello World!\n"
          ],
          "name": "stdout"
        }
      ]
    },
    {
      "cell_type": "code",
      "metadata": {
        "id": "YDpT4x25PAnH",
        "colab_type": "code",
        "colab": {
          "base_uri": "https://localhost:8080/",
          "height": 68
        },
        "outputId": "cf778fd5-6c29-4aa2-fb12-956de38b9f9e"
      },
      "source": [
        "#Problem 1\n",
        "number_one= int(input(\"Enter a number\"))\n",
        "number_two= int(input(\"Enter a second number\"))\n",
        "if number_one > number_two:\n",
        "  print(number_two)\n",
        "if not number_one > number_two:\n",
        "  print(number_one)"
      ],
      "execution_count": null,
      "outputs": [
        {
          "output_type": "stream",
          "text": [
            "Enter a number6\n",
            "Enter a second number5\n",
            "5\n"
          ],
          "name": "stdout"
        }
      ]
    },
    {
      "cell_type": "code",
      "metadata": {
        "id": "S3pYFZQYPrvB",
        "colab_type": "code",
        "colab": {
          "base_uri": "https://localhost:8080/",
          "height": 68
        },
        "outputId": "35a6c409-7b25-48be-b3a8-786606be737f"
      },
      "source": [
        "#Problem 2\n",
        "\n",
        "first_number= int(input(\"Enter a number \" \"\"))\n",
        "second_number= int(input(\"Enter a second number \" \"\"))\n",
        "third_number= int(input(\"Enter a third number \" \"\"))\n",
        "if first_number > second_number:\n",
        "  if first_number < third_number:\n",
        "    print(first_number)\n",
        "if first_number < second_number:\n",
        "  if second_number < third_number:\n",
        "    print(second_number)\n",
        "if first_number > third_number:\n",
        "  if third_number < second_number:\n",
        "    print(third_number)\n"
      ],
      "execution_count": null,
      "outputs": [
        {
          "output_type": "stream",
          "text": [
            "Enter a number 25\n",
            "Enter a second number 6\n",
            "Enter a third number 8\n"
          ],
          "name": "stdout"
        }
      ]
    },
    {
      "cell_type": "code",
      "metadata": {
        "id": "z-6IOY_aRe6D",
        "colab_type": "code",
        "colab": {
          "base_uri": "https://localhost:8080/",
          "height": 119
        },
        "outputId": "06f6ca72-fa5f-4b20-8f24-b24240369a7a"
      },
      "source": [
        "#Problem 3\n",
        "def is_it_even(number):\n",
        "  if(number % 2 == 0):\n",
        "    return True\n",
        "  else:\n",
        "    return False\n",
        "\n",
        "even_count=0\n",
        "for these_numbers in [3,2,8,9,17,24]:\n",
        "  if is_it_even(these_numbers):\n",
        "    even_count= even_count+1\n",
        "    print(\"Even Count is\", even_count)\n",
        "  else:\n",
        "    print(\"This is Uneven\")\n",
        "  \n",
        "\n",
        "\n",
        "\n"
      ],
      "execution_count": 35,
      "outputs": [
        {
          "output_type": "stream",
          "text": [
            "This is Uneven\n",
            "Even Count is 1\n",
            "Even Count is 2\n",
            "This is Uneven\n",
            "This is Uneven\n",
            "Even Count is 3\n"
          ],
          "name": "stdout"
        }
      ]
    },
    {
      "cell_type": "code",
      "metadata": {
        "id": "FYG97A1zU2hm",
        "colab_type": "code",
        "colab": {
          "base_uri": "https://localhost:8080/",
          "height": 119
        },
        "outputId": "d4a10ab7-4fbe-427b-d3a7-ac01ec5be817"
      },
      "source": [
        "#Problem 4\n",
        "def is_it_even(number):\n",
        "  if(number % 2 == 0):\n",
        "    return True\n",
        "  else:\n",
        "    return False\n",
        "\n",
        "even_number= 0\n",
        "number1= int(input(\"Enter a First Number \" \"\"))\n",
        "if is_it_even(number1):\n",
        "  even_number= even_number + 1\n",
        "\n",
        "number2= int(input(\"Enter a Second Number \" \"\"))\n",
        "if is_it_even(number2):\n",
        "  even_number= even_number + 1\n",
        "\n",
        "number3= int(input(\"Enter a Third Number \" \"\"))\n",
        "if is_it_even(number3):\n",
        "  even_number= even_number + 1\n",
        "\n",
        "number4= int(input(\"Enter a Fourth Number\" \"\"))\n",
        "if is_it_even(number4):\n",
        "  even_number= even_number + 1\n",
        "\n",
        "number5= int(input(\"Enter a Final Number\" \"\"))\n",
        "if is_it_even(number5):\n",
        "  even_number= even_number + 1\n",
        "\n",
        "print(\"The Number of Evens is\",even_number)"
      ],
      "execution_count": 37,
      "outputs": [
        {
          "output_type": "stream",
          "text": [
            "Enter a First Number 1\n",
            "Enter a Second Number 4\n",
            "Enter a Third Number 3\n",
            "Enter a Fourth Number82\n",
            "Enter a Final Number96\n",
            "The Number of Evens is 3\n"
          ],
          "name": "stdout"
        }
      ]
    },
    {
      "cell_type": "code",
      "metadata": {
        "id": "YDPP2_6uVBlv",
        "colab_type": "code",
        "colab": {
          "base_uri": "https://localhost:8080/",
          "height": 589
        },
        "outputId": "9a44cb38-4a61-4e26-c843-775409d573de"
      },
      "source": [
        "#Problem 5\n",
        "def is_it_even(number):\n",
        "  if(number % 2 == 0):\n",
        "    return True\n",
        "  else:\n",
        "    return False\n",
        "\n",
        "even_tracker=0 \n",
        "\n",
        "while True:\n",
        "  number= int(input(\"Enter a Number\" \"\"))\n",
        "  print(number)\n",
        "  if is_it_even(number):\n",
        "    even_tracker= even_tracker + 1\n",
        "  print(\"Type -1 to Exit or Enter Another Number\")\n",
        "  response= int(input())\n",
        "  if response== -1:\n",
        "     print(\"You Opted to Leave. You chose\", even_tracker, \"even numbers\")\n",
        "     sys.exit()\n",
        "\n",
        "\n",
        "\n",
        "  \n"
      ],
      "execution_count": 52,
      "outputs": [
        {
          "output_type": "stream",
          "text": [
            "Enter a Number6\n",
            "6\n",
            "Type -1 to Exit or Enter Another Number\n",
            "4\n",
            "Enter a Number20\n",
            "20\n",
            "Type -1 to Exit or Enter Another Number\n",
            "5\n",
            "Enter a Number7\n",
            "7\n",
            "Type -1 to Exit or Enter Another Number\n",
            "9\n",
            "Enter a Number11\n",
            "11\n",
            "Type -1 to Exit or Enter Another Number\n",
            "1022\n",
            "Enter a Number108\n",
            "108\n",
            "Type -1 to Exit or Enter Another Number\n",
            "-1\n",
            "You Opted to Leave. You chose 3 even numbers\n"
          ],
          "name": "stdout"
        },
        {
          "output_type": "error",
          "ename": "NameError",
          "evalue": "ignored",
          "traceback": [
            "\u001b[0;31m---------------------------------------------------------------------------\u001b[0m",
            "\u001b[0;31mNameError\u001b[0m                                 Traceback (most recent call last)",
            "\u001b[0;32m<ipython-input-52-d0842fcaab57>\u001b[0m in \u001b[0;36m<module>\u001b[0;34m()\u001b[0m\n\u001b[1;32m     17\u001b[0m   \u001b[0;32mif\u001b[0m \u001b[0mresponse\u001b[0m\u001b[0;34m==\u001b[0m \u001b[0;34m-\u001b[0m\u001b[0;36m1\u001b[0m\u001b[0;34m:\u001b[0m\u001b[0;34m\u001b[0m\u001b[0;34m\u001b[0m\u001b[0m\n\u001b[1;32m     18\u001b[0m      \u001b[0mprint\u001b[0m\u001b[0;34m(\u001b[0m\u001b[0;34m\"You Opted to Leave. You chose\"\u001b[0m\u001b[0;34m,\u001b[0m \u001b[0meven_tracker\u001b[0m\u001b[0;34m,\u001b[0m \u001b[0;34m\"even numbers\"\u001b[0m\u001b[0;34m)\u001b[0m\u001b[0;34m\u001b[0m\u001b[0;34m\u001b[0m\u001b[0m\n\u001b[0;32m---> 19\u001b[0;31m      \u001b[0msys\u001b[0m\u001b[0;34m.\u001b[0m\u001b[0mexit\u001b[0m\u001b[0;34m(\u001b[0m\u001b[0;34m)\u001b[0m\u001b[0;34m\u001b[0m\u001b[0;34m\u001b[0m\u001b[0m\n\u001b[0m\u001b[1;32m     20\u001b[0m \u001b[0;34m\u001b[0m\u001b[0m\n\u001b[1;32m     21\u001b[0m \u001b[0;34m\u001b[0m\u001b[0m\n",
            "\u001b[0;31mNameError\u001b[0m: name 'sys' is not defined"
          ]
        }
      ]
    },
    {
      "cell_type": "code",
      "metadata": {
        "id": "8HuOnrn0V8od",
        "colab_type": "code",
        "colab": {
          "base_uri": "https://localhost:8080/",
          "height": 221
        },
        "outputId": "0fa8b9fe-e5af-43d7-a778-69ef938feb02"
      },
      "source": [
        "#Problem 6 & 7\n",
        "wrong_numbers=0\n",
        "print(\"Let's Play a Game\")\n",
        "game_play= int(input(\"Guess a Number \" \"\"))\n",
        "while not game_play==4:\n",
        "  print(\"Wrong, Guess Again\")\n",
        "  wrong_numbers= wrong_numbers+1\n",
        "  game_play= int(input(\"Guess a Number \" \"\"))\n",
        "  if game_play==4:\n",
        "    print(\"Congrats! You Guessed it!\")\n",
        "    print(\"It only took you\", wrong_numbers,\"tries!\")\n",
        "\n"
      ],
      "execution_count": 55,
      "outputs": [
        {
          "output_type": "stream",
          "text": [
            "Let's Play a Game\n",
            "Guess a Number 6\n",
            "Wrong, Guess Again\n",
            "Guess a Number 8\n",
            "Wrong, Guess Again\n",
            "Guess a Number 10\n",
            "Wrong, Guess Again\n",
            "Guess a Number 9\n",
            "Wrong, Guess Again\n",
            "Guess a Number 4\n",
            "Congrats! You Guessed it!\n",
            "It only took you 4 tries!\n"
          ],
          "name": "stdout"
        }
      ]
    },
    {
      "cell_type": "code",
      "metadata": {
        "id": "26iPM4yfDOth",
        "colab_type": "code",
        "colab": {
          "base_uri": "https://localhost:8080/",
          "height": 987
        },
        "outputId": "e2047670-e53e-47fc-dd51-89ff7b9ca9c3"
      },
      "source": [
        "#Problem 8\n",
        "import random \n",
        "wrong_numbers=0\n",
        "X=random.randint(1,1000)\n",
        "print(\"Let's Play a Game\")\n",
        "game_play= int(input(\"Guess a Number \" \"\"))\n",
        "while not game_play==X:\n",
        "  print(\"Wrong, Guess Again\")\n",
        "  wrong_numbers= wrong_numbers+1\n",
        "  game_play= int(input(\"Guess a Number \" \"\"))\n",
        "  if game_play==X:\n",
        "    print(\"Congrats! You Guessed it!\")\n",
        "    print(\"It only took you\", wrong_numbers,\"tries!\")"
      ],
      "execution_count": 57,
      "outputs": [
        {
          "output_type": "stream",
          "text": [
            "Let's Play a Game\n",
            "Guess a Number 71\n",
            "Wrong, Guess Again\n",
            "Guess a Number 91\n",
            "Wrong, Guess Again\n",
            "Guess a Number 4\n",
            "Wrong, Guess Again\n",
            "Guess a Number 2\n",
            "Wrong, Guess Again\n",
            "Guess a Number 3\n",
            "Wrong, Guess Again\n",
            "Guess a Number 10\n",
            "Wrong, Guess Again\n",
            "Guess a Number 100\n",
            "Wrong, Guess Again\n",
            "Guess a Number 27\n",
            "Wrong, Guess Again\n",
            "Guess a Number 37\n",
            "Wrong, Guess Again\n",
            "Guess a Number 97\n",
            "Wrong, Guess Again\n",
            "Guess a Number 101\n",
            "Wrong, Guess Again\n",
            "Guess a Number 88\n",
            "Wrong, Guess Again\n",
            "Guess a Number 78\n",
            "Wrong, Guess Again\n"
          ],
          "name": "stdout"
        },
        {
          "output_type": "error",
          "ename": "KeyboardInterrupt",
          "evalue": "ignored",
          "traceback": [
            "\u001b[0;31m---------------------------------------------------------------------------\u001b[0m",
            "\u001b[0;31mKeyboardInterrupt\u001b[0m                         Traceback (most recent call last)",
            "\u001b[0;32m/usr/local/lib/python3.6/dist-packages/ipykernel/kernelbase.py\u001b[0m in \u001b[0;36m_input_request\u001b[0;34m(self, prompt, ident, parent, password)\u001b[0m\n\u001b[1;32m    728\u001b[0m             \u001b[0;32mtry\u001b[0m\u001b[0;34m:\u001b[0m\u001b[0;34m\u001b[0m\u001b[0;34m\u001b[0m\u001b[0m\n\u001b[0;32m--> 729\u001b[0;31m                 \u001b[0mident\u001b[0m\u001b[0;34m,\u001b[0m \u001b[0mreply\u001b[0m \u001b[0;34m=\u001b[0m \u001b[0mself\u001b[0m\u001b[0;34m.\u001b[0m\u001b[0msession\u001b[0m\u001b[0;34m.\u001b[0m\u001b[0mrecv\u001b[0m\u001b[0;34m(\u001b[0m\u001b[0mself\u001b[0m\u001b[0;34m.\u001b[0m\u001b[0mstdin_socket\u001b[0m\u001b[0;34m,\u001b[0m \u001b[0;36m0\u001b[0m\u001b[0;34m)\u001b[0m\u001b[0;34m\u001b[0m\u001b[0;34m\u001b[0m\u001b[0m\n\u001b[0m\u001b[1;32m    730\u001b[0m             \u001b[0;32mexcept\u001b[0m \u001b[0mException\u001b[0m\u001b[0;34m:\u001b[0m\u001b[0;34m\u001b[0m\u001b[0;34m\u001b[0m\u001b[0m\n",
            "\u001b[0;32m/usr/local/lib/python3.6/dist-packages/jupyter_client/session.py\u001b[0m in \u001b[0;36mrecv\u001b[0;34m(self, socket, mode, content, copy)\u001b[0m\n\u001b[1;32m    802\u001b[0m         \u001b[0;32mtry\u001b[0m\u001b[0;34m:\u001b[0m\u001b[0;34m\u001b[0m\u001b[0;34m\u001b[0m\u001b[0m\n\u001b[0;32m--> 803\u001b[0;31m             \u001b[0mmsg_list\u001b[0m \u001b[0;34m=\u001b[0m \u001b[0msocket\u001b[0m\u001b[0;34m.\u001b[0m\u001b[0mrecv_multipart\u001b[0m\u001b[0;34m(\u001b[0m\u001b[0mmode\u001b[0m\u001b[0;34m,\u001b[0m \u001b[0mcopy\u001b[0m\u001b[0;34m=\u001b[0m\u001b[0mcopy\u001b[0m\u001b[0;34m)\u001b[0m\u001b[0;34m\u001b[0m\u001b[0;34m\u001b[0m\u001b[0m\n\u001b[0m\u001b[1;32m    804\u001b[0m         \u001b[0;32mexcept\u001b[0m \u001b[0mzmq\u001b[0m\u001b[0;34m.\u001b[0m\u001b[0mZMQError\u001b[0m \u001b[0;32mas\u001b[0m \u001b[0me\u001b[0m\u001b[0;34m:\u001b[0m\u001b[0;34m\u001b[0m\u001b[0;34m\u001b[0m\u001b[0m\n",
            "\u001b[0;32m/usr/local/lib/python3.6/dist-packages/zmq/sugar/socket.py\u001b[0m in \u001b[0;36mrecv_multipart\u001b[0;34m(self, flags, copy, track)\u001b[0m\n\u001b[1;32m    490\u001b[0m         \"\"\"\n\u001b[0;32m--> 491\u001b[0;31m         \u001b[0mparts\u001b[0m \u001b[0;34m=\u001b[0m \u001b[0;34m[\u001b[0m\u001b[0mself\u001b[0m\u001b[0;34m.\u001b[0m\u001b[0mrecv\u001b[0m\u001b[0;34m(\u001b[0m\u001b[0mflags\u001b[0m\u001b[0;34m,\u001b[0m \u001b[0mcopy\u001b[0m\u001b[0;34m=\u001b[0m\u001b[0mcopy\u001b[0m\u001b[0;34m,\u001b[0m \u001b[0mtrack\u001b[0m\u001b[0;34m=\u001b[0m\u001b[0mtrack\u001b[0m\u001b[0;34m)\u001b[0m\u001b[0;34m]\u001b[0m\u001b[0;34m\u001b[0m\u001b[0;34m\u001b[0m\u001b[0m\n\u001b[0m\u001b[1;32m    492\u001b[0m         \u001b[0;31m# have first part already, only loop while more to receive\u001b[0m\u001b[0;34m\u001b[0m\u001b[0;34m\u001b[0m\u001b[0;34m\u001b[0m\u001b[0m\n",
            "\u001b[0;32mzmq/backend/cython/socket.pyx\u001b[0m in \u001b[0;36mzmq.backend.cython.socket.Socket.recv\u001b[0;34m()\u001b[0m\n",
            "\u001b[0;32mzmq/backend/cython/socket.pyx\u001b[0m in \u001b[0;36mzmq.backend.cython.socket.Socket.recv\u001b[0;34m()\u001b[0m\n",
            "\u001b[0;32mzmq/backend/cython/socket.pyx\u001b[0m in \u001b[0;36mzmq.backend.cython.socket._recv_copy\u001b[0;34m()\u001b[0m\n",
            "\u001b[0;32m/usr/local/lib/python3.6/dist-packages/zmq/backend/cython/checkrc.pxd\u001b[0m in \u001b[0;36mzmq.backend.cython.checkrc._check_rc\u001b[0;34m()\u001b[0m\n",
            "\u001b[0;31mKeyboardInterrupt\u001b[0m: ",
            "\nDuring handling of the above exception, another exception occurred:\n",
            "\u001b[0;31mKeyboardInterrupt\u001b[0m                         Traceback (most recent call last)",
            "\u001b[0;32m<ipython-input-57-e08079346f26>\u001b[0m in \u001b[0;36m<module>\u001b[0;34m()\u001b[0m\n\u001b[1;32m      8\u001b[0m   \u001b[0mprint\u001b[0m\u001b[0;34m(\u001b[0m\u001b[0;34m\"Wrong, Guess Again\"\u001b[0m\u001b[0;34m)\u001b[0m\u001b[0;34m\u001b[0m\u001b[0;34m\u001b[0m\u001b[0m\n\u001b[1;32m      9\u001b[0m   \u001b[0mwrong_numbers\u001b[0m\u001b[0;34m=\u001b[0m \u001b[0mwrong_numbers\u001b[0m\u001b[0;34m+\u001b[0m\u001b[0;36m1\u001b[0m\u001b[0;34m\u001b[0m\u001b[0;34m\u001b[0m\u001b[0m\n\u001b[0;32m---> 10\u001b[0;31m   \u001b[0mgame_play\u001b[0m\u001b[0;34m=\u001b[0m \u001b[0mint\u001b[0m\u001b[0;34m(\u001b[0m\u001b[0minput\u001b[0m\u001b[0;34m(\u001b[0m\u001b[0;34m\"Guess a Number \"\u001b[0m \u001b[0;34m\"\"\u001b[0m\u001b[0;34m)\u001b[0m\u001b[0;34m)\u001b[0m\u001b[0;34m\u001b[0m\u001b[0;34m\u001b[0m\u001b[0m\n\u001b[0m\u001b[1;32m     11\u001b[0m   \u001b[0;32mif\u001b[0m \u001b[0mgame_play\u001b[0m\u001b[0;34m==\u001b[0m\u001b[0mX\u001b[0m\u001b[0;34m:\u001b[0m\u001b[0;34m\u001b[0m\u001b[0;34m\u001b[0m\u001b[0m\n\u001b[1;32m     12\u001b[0m     \u001b[0mprint\u001b[0m\u001b[0;34m(\u001b[0m\u001b[0;34m\"Congrats! You Guessed it!\"\u001b[0m\u001b[0;34m)\u001b[0m\u001b[0;34m\u001b[0m\u001b[0;34m\u001b[0m\u001b[0m\n",
            "\u001b[0;32m/usr/local/lib/python3.6/dist-packages/ipykernel/kernelbase.py\u001b[0m in \u001b[0;36mraw_input\u001b[0;34m(self, prompt)\u001b[0m\n\u001b[1;32m    702\u001b[0m             \u001b[0mself\u001b[0m\u001b[0;34m.\u001b[0m\u001b[0m_parent_ident\u001b[0m\u001b[0;34m,\u001b[0m\u001b[0;34m\u001b[0m\u001b[0;34m\u001b[0m\u001b[0m\n\u001b[1;32m    703\u001b[0m             \u001b[0mself\u001b[0m\u001b[0;34m.\u001b[0m\u001b[0m_parent_header\u001b[0m\u001b[0;34m,\u001b[0m\u001b[0;34m\u001b[0m\u001b[0;34m\u001b[0m\u001b[0m\n\u001b[0;32m--> 704\u001b[0;31m             \u001b[0mpassword\u001b[0m\u001b[0;34m=\u001b[0m\u001b[0;32mFalse\u001b[0m\u001b[0;34m,\u001b[0m\u001b[0;34m\u001b[0m\u001b[0;34m\u001b[0m\u001b[0m\n\u001b[0m\u001b[1;32m    705\u001b[0m         )\n\u001b[1;32m    706\u001b[0m \u001b[0;34m\u001b[0m\u001b[0m\n",
            "\u001b[0;32m/usr/local/lib/python3.6/dist-packages/ipykernel/kernelbase.py\u001b[0m in \u001b[0;36m_input_request\u001b[0;34m(self, prompt, ident, parent, password)\u001b[0m\n\u001b[1;32m    732\u001b[0m             \u001b[0;32mexcept\u001b[0m \u001b[0mKeyboardInterrupt\u001b[0m\u001b[0;34m:\u001b[0m\u001b[0;34m\u001b[0m\u001b[0;34m\u001b[0m\u001b[0m\n\u001b[1;32m    733\u001b[0m                 \u001b[0;31m# re-raise KeyboardInterrupt, to truncate traceback\u001b[0m\u001b[0;34m\u001b[0m\u001b[0;34m\u001b[0m\u001b[0;34m\u001b[0m\u001b[0m\n\u001b[0;32m--> 734\u001b[0;31m                 \u001b[0;32mraise\u001b[0m \u001b[0mKeyboardInterrupt\u001b[0m\u001b[0;34m\u001b[0m\u001b[0;34m\u001b[0m\u001b[0m\n\u001b[0m\u001b[1;32m    735\u001b[0m             \u001b[0;32melse\u001b[0m\u001b[0;34m:\u001b[0m\u001b[0;34m\u001b[0m\u001b[0;34m\u001b[0m\u001b[0m\n\u001b[1;32m    736\u001b[0m                 \u001b[0;32mbreak\u001b[0m\u001b[0;34m\u001b[0m\u001b[0;34m\u001b[0m\u001b[0m\n",
            "\u001b[0;31mKeyboardInterrupt\u001b[0m: "
          ]
        }
      ]
    }
  ]
}