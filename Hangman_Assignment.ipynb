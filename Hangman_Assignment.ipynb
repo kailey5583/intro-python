{
  "nbformat": 4,
  "nbformat_minor": 0,
  "metadata": {
    "colab": {
      "name": "Hangman Assignment",
      "provenance": [],
      "authorship_tag": "ABX9TyPFCdDMZI3pL5phE66REWhK",
      "include_colab_link": true
    },
    "kernelspec": {
      "name": "python3",
      "display_name": "Python 3"
    }
  },
  "cells": [
    {
      "cell_type": "markdown",
      "metadata": {
        "id": "view-in-github",
        "colab_type": "text"
      },
      "source": [
        "<a href=\"https://colab.research.google.com/github/kailey5583/intro-python/blob/master/Hangman_Assignment.ipynb\" target=\"_parent\"><img src=\"https://colab.research.google.com/assets/colab-badge.svg\" alt=\"Open In Colab\"/></a>"
      ]
    },
    {
      "cell_type": "code",
      "metadata": {
        "id": "qEumQ9Gn7Kpg",
        "outputId": "63023cf8-b82c-46ad-f5c2-da5cde769496",
        "colab": {
          "base_uri": "https://localhost:8080/",
          "height": 35
        }
      },
      "source": [
        "#Part 0\n",
        "def choose_word():\n",
        "  return \"balloon\"\n",
        "\n",
        "choose_word()"
      ],
      "execution_count": 36,
      "outputs": [
        {
          "output_type": "execute_result",
          "data": {
            "application/vnd.google.colaboratory.intrinsic+json": {
              "type": "string"
            },
            "text/plain": [
              "'balloon'"
            ]
          },
          "metadata": {
            "tags": []
          },
          "execution_count": 36
        }
      ]
    },
    {
      "cell_type": "code",
      "metadata": {
        "id": "yRbMzAtN7P4-",
        "outputId": "178bdc66-3d85-4cc2-af6e-91fd8a91da9c",
        "colab": {
          "base_uri": "https://localhost:8080/",
          "height": 34
        }
      },
      "source": [
        "#Part 1\n",
        "dash_list= \"_\" * len(the_word)\n",
        "\n",
        "print(dash_list)"
      ],
      "execution_count": 66,
      "outputs": [
        {
          "output_type": "stream",
          "text": [
            "_______\n"
          ],
          "name": "stdout"
        }
      ]
    },
    {
      "cell_type": "code",
      "metadata": {
        "id": "P0zZvcgy7QFg",
        "outputId": "b1aa3155-0c27-4ecf-faf3-e0ae3eb97339",
        "colab": {
          "base_uri": "https://localhost:8080/",
          "height": 34
        }
      },
      "source": [
        "#Part 2\n",
        "user_letter = input(\"Please enter a letter\")"
      ],
      "execution_count": null,
      "outputs": [
        {
          "output_type": "stream",
          "text": [
            "Please enter a letterA\n"
          ],
          "name": "stdout"
        }
      ]
    },
    {
      "cell_type": "code",
      "metadata": {
        "id": "8sL8Qt7T0K29"
      },
      "source": [
        ""
      ],
      "execution_count": null,
      "outputs": []
    },
    {
      "cell_type": "code",
      "metadata": {
        "id": "AutXXNZC7QP0"
      },
      "source": [
        "#Part 3\n",
        "\n",
        "the_word= choose_word()\n",
        "wrong_guess=0\n",
        "  if not user_letter in the_word:\n",
        "    wrong_guess= wrong_guess + 1 \n",
        "\n",
        "def body_count(wrong_guess):\n",
        "  if number == 1:\n",
        "    print(\"  (0_)  \")\n",
        "  if number == 2:\n",
        "    print(\"  (0_o)  \")\n",
        "    print(\"    |   \")\n",
        "    print(\"    |   \")\n",
        "  if number == 3:\n",
        "    print(\"  (0_o)  \")\n",
        "    print(\"  / |   \")\n",
        "    print(\" /  |   \")\n",
        "  if number == 4:\n",
        "    print(\"  (0_o)  \")\n",
        "    print(\"   /|\\  \")\n",
        "    print(\"  / | \\ \")\n",
        "  if number == 5:\n",
        "    print(\"  (0_o)  \")\n",
        "    print(\"   /|\\  \")\n",
        "    print(\"  / | \\ \")\n",
        "    print(\"   /    \")\n",
        "    print(\"  /     \")\n",
        "  if number == 6:\n",
        "    print(\"  (0_o)  \")\n",
        "    print(\"   /|\\  \")\n",
        "    print(\"  / | \\ \")\n",
        "    print(\"   / \\  \")\n",
        "    print(\"  /   \\ \")\n",
        "\n",
        "\n",
        "\n",
        "\n",
        "\n"
      ],
      "execution_count": 35,
      "outputs": []
    },
    {
      "cell_type": "code",
      "metadata": {
        "id": "G_uccfMx7QZS",
        "outputId": "062cbc1a-9b42-4300-d45e-5343996e4304",
        "colab": {
          "base_uri": "https://localhost:8080/",
          "height": 204
        }
      },
      "source": [
        "#Part 4 \n",
        "the_word= list(choose_word())\n",
        "guessed= False\n",
        "tries=6\n",
        "dashed_list= \"_\" * len(the_word)\n",
        "\n",
        "\n",
        "while not guessed and tries > 0:\n",
        "  user_letter = input(\"Please enter a letter\").lower()\n",
        "  if user_letter in the_word:\n",
        "    total_letters= list(dashed_list)\n",
        "    indicies= [i for i, letter in enumerate(the_word) if letter== user_letter]\n",
        "    for index in indicies:\n",
        "      total_letters[index]= user_letter\n",
        "    dashed_list= \"\".join(total_letters)\n",
        "    print(dashed_list)\n",
        "    if not \"_\" in dashed_list:\n",
        "      guessed= True \n",
        "if guessed:\n",
        "  print(\"Congratulations! You've won, the man will not be hanged!\")\n",
        "\n",
        "\n",
        "\n",
        "\n",
        "\n",
        "\n",
        "\n",
        "      \n",
        "\n",
        "   \n",
        "\n"
      ],
      "execution_count": 48,
      "outputs": [
        {
          "output_type": "stream",
          "text": [
            "Please enter a letterb\n",
            "b______\n",
            "Please enter a lettera\n",
            "ba_____\n",
            "Please enter a letterl\n",
            "ball___\n",
            "Please enter a lettero\n",
            "balloo_\n",
            "Please enter a lettern\n",
            "balloon\n",
            "Congratulations! You've won, the man will not be hanged!\n"
          ],
          "name": "stdout"
        }
      ]
    },
    {
      "cell_type": "code",
      "metadata": {
        "id": "MxJvx5No7Qia",
        "outputId": "cd67acb8-0f9c-42bd-f6e3-5069cee4937d",
        "colab": {
          "base_uri": "https://localhost:8080/",
          "height": 714
        }
      },
      "source": [
        "#Part 5\n",
        "def hangman():\n",
        "  print(\"Hello, welcome to Hangman! You have 6 guesses before the man is hanged. Good luck dudes!\")\n",
        "  choose_word()\n",
        "  the_word= choose_word()\n",
        "  guessed= False\n",
        "  tries=6\n",
        "  dashed_list= \"_\" * len(the_word)\n",
        "  wrong_guess=0\n",
        "  guesses_made= []\n",
        "  while not guessed and tries > 0:\n",
        "    user_letter = input(\"Please enter a letter\").lower()\n",
        "    if user_letter in the_word:\n",
        "      print(\"the letter\", user_letter, \"is in the word!\")\n",
        "      total_letters= list(dashed_list)\n",
        "      indicies= [i for i, letter in enumerate(the_word) if letter== user_letter]\n",
        "      for index in indicies:\n",
        "        total_letters[index]= user_letter\n",
        "      dashed_list= \"\".join(total_letters)\n",
        "      print(dashed_list)\n",
        "      if not \"_\" in dashed_list:\n",
        "        guessed= True \n",
        "    if not user_letter in the_word:\n",
        "      print(\"the letter,\", user_letter,\", is not in the word!\")\n",
        "      wrong_guess= wrong_guess + 1 \n",
        "      body_count(wrong_guess)\n",
        "      if wrong_guess== 6:\n",
        "        print(\"Sorry, you lost. The word was,\", the_word)\n",
        "        play_again()\n",
        "        break  \n",
        "  if guessed:\n",
        "    print(\"Congratulations! You've won, the man will not be hanged!\")\n",
        "    \n",
        "hangman()  \n",
        "\n",
        "  \n",
        "  \n"
      ],
      "execution_count": 74,
      "outputs": [
        {
          "output_type": "stream",
          "text": [
            "Hello, welcome to Hangman! You have 6 guesses before the man is hanged. Good luck dudes!\n",
            "Please enter a lettera\n",
            "the letter a is in the word!\n",
            "_______a_\n",
            "Please enter a lettere\n",
            "the letter, e , is not in the word!\n",
            "  (0_)  \n",
            "Please enter a letteri\n",
            "the letter, i , is not in the word!\n",
            "  (0_o)  \n",
            "    |   \n",
            "    |   \n",
            "Please enter a letterb\n",
            "the letter, b , is not in the word!\n",
            "  (0_o)  \n",
            "  / |   \n",
            " /  |   \n",
            "Please enter a lettert\n",
            "the letter, t , is not in the word!\n",
            "  (0_o)  \n",
            "   /|\\  \n",
            "  / | \\ \n",
            "Please enter a letterl\n",
            "the letter l is in the word!\n",
            "_______al\n",
            "Please enter a letteru\n",
            "the letter, u , is not in the word!\n",
            "  (0_o)  \n",
            "   /|\\  \n",
            "  / | \\ \n",
            "   /    \n",
            "  /     \n",
            "Please enter a letterq\n",
            "the letter, q , is not in the word!\n",
            "  (0_o)  \n",
            "   /|\\  \n",
            "  / | \\ \n",
            "   / \\  \n",
            "  /   \\ \n",
            "Sorry, you lost. The word was, Cryogonal\n",
            "Would you like to play again? Type Y/NNo\n"
          ],
          "name": "stdout"
        }
      ]
    },
    {
      "cell_type": "code",
      "metadata": {
        "id": "sVwd6Jc47Qsf",
        "outputId": "7ec8dd19-2f60-431b-f806-21311ce20d28",
        "colab": {
          "base_uri": "https://localhost:8080/",
          "height": 34
        }
      },
      "source": [
        "#Part 6\n",
        "import urllib.request\n",
        "import random\n",
        "def choose_word():\n",
        "  file_name= \"https://raw.githubusercontent.com/mlepinski/Python-Worksheets/master/coolWords.txt\"\n",
        "  my_file = urllib.request.urlopen(file_name)\n",
        "  long_string = my_file.read()\n",
        "  long_string = long_string.decode(\"utf-8\")\n",
        "  word_list = long_string.split(\"\\n\")\n",
        "  for words in word_list: \n",
        "    choosen_word = random.choice( word_list )\n",
        "  return choosen_word\n",
        "    \n",
        "print(choose_word())\n",
        "\n"
      ],
      "execution_count": 67,
      "outputs": [
        {
          "output_type": "stream",
          "text": [
            "Tympole\n"
          ],
          "name": "stdout"
        }
      ]
    },
    {
      "cell_type": "code",
      "metadata": {
        "id": "cCvT6O467Q1b",
        "outputId": "be03368c-723b-4f8a-8b57-98baf9a82a87",
        "colab": {
          "base_uri": "https://localhost:8080/",
          "height": 34
        }
      },
      "source": [
        "#Part 7\n",
        "#to improve the game i've created the play again function so the user can keep playing. I also made sure that it printed out the word when the user loses. \n",
        "def play_again():\n",
        "  y_or_n= input(\"Would you like to play again? Type Y/N\").upper()\n",
        "  if y_or_n.upper().startswith(\"Y\"):\n",
        "    hangman()\n",
        "\n",
        "\n",
        "play_again()\n"
      ],
      "execution_count": 75,
      "outputs": [
        {
          "output_type": "stream",
          "text": [
            "Would you like to play again? Type Y/Nno\n"
          ],
          "name": "stdout"
        }
      ]
    }
  ]
}