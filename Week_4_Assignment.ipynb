{
  "nbformat": 4,
  "nbformat_minor": 0,
  "metadata": {
    "colab": {
      "name": "Week 4 Assignment",
      "provenance": [],
      "authorship_tag": "ABX9TyOhtKGAeSmL1XQ6nlXjRk75",
      "include_colab_link": true
    },
    "kernelspec": {
      "name": "python3",
      "display_name": "Python 3"
    }
  },
  "cells": [
    {
      "cell_type": "markdown",
      "metadata": {
        "id": "view-in-github",
        "colab_type": "text"
      },
      "source": [
        "<a href=\"https://colab.research.google.com/github/kailey5583/intro-python/blob/master/Week_4_Assignment.ipynb\" target=\"_parent\"><img src=\"https://colab.research.google.com/assets/colab-badge.svg\" alt=\"Open In Colab\"/></a>"
      ]
    },
    {
      "cell_type": "code",
      "metadata": {
        "id": "QmRKGH-omjrk",
        "colab_type": "code",
        "colab": {}
      },
      "source": [
        "#Problem 0\n",
        "def HelloWorld():\n",
        "  print(\"Hello World\")"
      ],
      "execution_count": null,
      "outputs": []
    },
    {
      "cell_type": "code",
      "metadata": {
        "id": "3oNWtnfpmvWD",
        "colab_type": "code",
        "colab": {
          "base_uri": "https://localhost:8080/",
          "height": 102
        },
        "outputId": "0a2374bc-2bc0-4276-a69e-bcd996704ebd"
      },
      "source": [
        "#Problem 1\n",
        "def DrinkWater():\n",
        "  for drink_water in range (5):\n",
        "    print(\"Drink More Water!\")\n",
        "\n",
        "DrinkWater()"
      ],
      "execution_count": 8,
      "outputs": [
        {
          "output_type": "stream",
          "text": [
            "Drink More Water!\n",
            "Drink More Water!\n",
            "Drink More Water!\n",
            "Drink More Water!\n",
            "Drink More Water!\n"
          ],
          "name": "stdout"
        }
      ]
    },
    {
      "cell_type": "code",
      "metadata": {
        "id": "EKxkQeLVmvb9",
        "colab_type": "code",
        "colab": {
          "base_uri": "https://localhost:8080/",
          "height": 170
        },
        "outputId": "e4289086-55d2-402c-f6a3-17f1f0f468ab"
      },
      "source": [
        "#Problem 2\n",
        "number= int(input(\"put a number\"))\n",
        "def DrinkWater():\n",
        "  for drink_water in range (number):\n",
        "    print(\"Drink More Water!\")\n",
        "\n",
        "DrinkWater()"
      ],
      "execution_count": 9,
      "outputs": [
        {
          "output_type": "stream",
          "text": [
            "put a number8\n",
            "Drink More Water!\n",
            "Drink More Water!\n",
            "Drink More Water!\n",
            "Drink More Water!\n",
            "Drink More Water!\n",
            "Drink More Water!\n",
            "Drink More Water!\n",
            "Drink More Water!\n"
          ],
          "name": "stdout"
        }
      ]
    },
    {
      "cell_type": "code",
      "metadata": {
        "id": "zCV5FYJdmvks",
        "colab_type": "code",
        "colab": {
          "base_uri": "https://localhost:8080/",
          "height": 51
        },
        "outputId": "fdfe2bde-be1b-492b-d967-164d385c6c72"
      },
      "source": [
        "#Problem 3\n",
        "def Square():\n",
        "  number= int(input(\"Input a number\"))\n",
        "  the_square= number*number\n",
        "  print(\"the square of\", number,\"is\", the_square)\n",
        "\n",
        "Square()\n",
        "\n"
      ],
      "execution_count": 19,
      "outputs": [
        {
          "output_type": "stream",
          "text": [
            "Input a number6\n",
            "the square of 6 is 36\n"
          ],
          "name": "stdout"
        }
      ]
    },
    {
      "cell_type": "code",
      "metadata": {
        "id": "61BQkDjamvrO",
        "colab_type": "code",
        "colab": {
          "base_uri": "https://localhost:8080/",
          "height": 51
        },
        "outputId": "cd5dfdb6-3476-4fd3-ca4a-a50844b27a22"
      },
      "source": [
        "#Problem 4\n",
        "def biggerten():\n",
        "  you_choose= int(input(\"Please pick a number\"))\n",
        "  if you_choose < 10:\n",
        "    print(\"this number is less than ten\")\n",
        "  if you_choose > 10:\n",
        "    print(\"this number is greater than 10\")\n",
        "  if you_choose ==10:\n",
        "      print(\"this number is 10\")\n",
        "\n",
        "biggerten()"
      ],
      "execution_count": 25,
      "outputs": [
        {
          "output_type": "stream",
          "text": [
            "Please pick a number5\n",
            "this number is less than ten\n"
          ],
          "name": "stdout"
        }
      ]
    },
    {
      "cell_type": "code",
      "metadata": {
        "id": "4Umj3sJvmvyi",
        "colab_type": "code",
        "colab": {
          "base_uri": "https://localhost:8080/",
          "height": 68
        },
        "outputId": "6baaa5e7-b98c-406a-d8be-83e3cb597739"
      },
      "source": [
        "#Problem 5\n",
        "def bigger():\n",
        "  number1= int(input(\"Pick a first number\"))\n",
        "  number2= int(input(\"Pick a second number\"))\n",
        "  if number1 > number2:\n",
        "    print(number1, \"is greater than\", number2)\n",
        "  if number1 < number2:\n",
        "    print(number2, \"is greater than\", number1)\n",
        "  if number1==number2:\n",
        "    print(\"these are the same\")\n",
        "\n",
        "\n",
        "bigger()\n"
      ],
      "execution_count": 22,
      "outputs": [
        {
          "output_type": "stream",
          "text": [
            "Pick a first number2\n",
            "Pick a second number3\n",
            "3 is greater than 2\n"
          ],
          "name": "stdout"
        }
      ]
    },
    {
      "cell_type": "code",
      "metadata": {
        "id": "iE88V7qjmxDP",
        "colab_type": "code",
        "colab": {
          "base_uri": "https://localhost:8080/",
          "height": 68
        },
        "outputId": "7bcf9cb2-c3b5-4669-d82a-7be733117f14"
      },
      "source": [
        "#Problem 6\n",
        "age1= int(input(\"what's your age?\")) \n",
        "age2= int(input(\"what's your friend's age?\"))\n",
        "\n",
        "#unsure of whether this works. \n",
        "    #aka, I feel like my two subsequent 'if' statements negate the use of the 'bigger'\n",
        "    #will follow up.\n",
        "if bigger:\n",
        "  if age1>age2:\n",
        "    print(\"the oldest of you is\", age1,\"years old\")\n",
        "  if age1<age2:\n",
        "    print(\"the oldest of you is\", age2, \"years old\")\n",
        "\n",
        "\n",
        "  \n",
        "\n",
        "\n"
      ],
      "execution_count": 34,
      "outputs": [
        {
          "output_type": "stream",
          "text": [
            "what's your age?8\n",
            "what's your friend's age?5\n",
            "the oldest of you is 8 years old\n"
          ],
          "name": "stdout"
        }
      ]
    }
  ]
}