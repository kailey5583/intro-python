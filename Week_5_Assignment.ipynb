{
  "nbformat": 4,
  "nbformat_minor": 0,
  "metadata": {
    "colab": {
      "name": "Week 5 Assignment",
      "provenance": [],
      "authorship_tag": "ABX9TyPP2SeF3lc3QOb9enttL9/n",
      "include_colab_link": true
    },
    "kernelspec": {
      "name": "python3",
      "display_name": "Python 3"
    }
  },
  "cells": [
    {
      "cell_type": "markdown",
      "metadata": {
        "id": "view-in-github",
        "colab_type": "text"
      },
      "source": [
        "<a href=\"https://colab.research.google.com/github/kailey5583/intro-python/blob/master/Week_5_Assignment.ipynb\" target=\"_parent\"><img src=\"https://colab.research.google.com/assets/colab-badge.svg\" alt=\"Open In Colab\"/></a>"
      ]
    },
    {
      "cell_type": "code",
      "metadata": {
        "id": "0jlE2UW5stJh",
        "outputId": "46f9677b-8e81-4255-c700-dc5539cca1aa",
        "colab": {
          "base_uri": "https://localhost:8080/",
          "height": 51
        }
      },
      "source": [
        "#Part One, making a function for the day of the week.\n",
        "def day_of_the_week(number): \n",
        "    if number==1:\n",
        "      return \"Wednesday\"\n",
        "    if number==2:\n",
        "     return \"Thursday\"  \n",
        "    if number==3:\n",
        "      return \"Friday\"\n",
        "    if number==4:\n",
        "      return\"Saturday\" \n",
        "    if number==5:\n",
        "      return \"Sunday\"   \n",
        "    if number==6:\n",
        "      return \"Monday\"  \n",
        "    if number==7:\n",
        "      return \"Tuesday\"\n",
        "     \n",
        "\n",
        "print('the 7th day of the week is', day_of_the_week(7))\n",
        "print(\"The 5th day of the week is\", day_of_the_week(5))\n",
        "\n"
      ],
      "execution_count": 282,
      "outputs": [
        {
          "output_type": "stream",
          "text": [
            "the 7th day of the week is Tuesday\n",
            "The 5th day of the week is Sunday\n"
          ],
          "name": "stdout"
        }
      ]
    },
    {
      "cell_type": "code",
      "metadata": {
        "id": "OFnezaic6pGk",
        "outputId": "b649e0d8-7de1-456b-ea85-86373c088774",
        "colab": {
          "base_uri": "https://localhost:8080/",
          "height": 68
        }
      },
      "source": [
        "#Part Two January\n",
        "\n",
        "def january_day(day_number):\n",
        "  while day_number > 7:\n",
        "    day_number= day_number - 7 \n",
        "  if day_number <= 7:\n",
        "    return day_of_the_week(day_number)\n",
        "\n",
        "print(\"The 1st Day of January is\", january_day(1))\n",
        "print(\"The 19th day in January is\", january_day(19))\n",
        "print(\"The 30th day in January is\", january_day(30))\n",
        "   \n",
        "\n"
      ],
      "execution_count": 303,
      "outputs": [
        {
          "output_type": "stream",
          "text": [
            "The 1st Day of January is Wednesday\n",
            "The 19th day in January is Sunday\n",
            "The 30th day in January is Thursday\n"
          ],
          "name": "stdout"
        }
      ]
    },
    {
      "cell_type": "code",
      "metadata": {
        "id": "qD15ckcsWdIm",
        "outputId": "ee9530ae-5520-4352-ec5e-3c7a2b9b46e9",
        "colab": {
          "base_uri": "https://localhost:8080/",
          "height": 68
        }
      },
      "source": [
        "#Part Three number to day\n",
        "def number_to_day(x):\n",
        "  while x > 7:\n",
        "    x = x - 7 \n",
        "  if x <= 7:\n",
        "    return day_of_the_week(x)\n",
        "\n",
        "print(\"The 100th day in 2020 is\", number_to_day(100))\n",
        "print(\"The 19th day in 2020 is\", number_to_day(19))\n",
        "print(\"The 1st Day of 2020 is\", number_to_day(1))\n"
      ],
      "execution_count": 305,
      "outputs": [
        {
          "output_type": "stream",
          "text": [
            "The 100th day in 2020 is Thursday\n",
            "The 19th day in 2020 is Sunday\n",
            "The 1st Day of 2020 is Wednesday\n"
          ],
          "name": "stdout"
        }
      ]
    },
    {
      "cell_type": "code",
      "metadata": {
        "id": "V_ZfZ11LW71X",
        "outputId": "56ae054f-103d-40ad-fa0d-4368d7d28de9",
        "colab": {
          "base_uri": "https://localhost:8080/",
          "height": 68
        }
      },
      "source": [
        "#Part Four month day to number\n",
        "def month_day_to_number(month_num,day_num):\n",
        "  if month_num==1:\n",
        "    day_num= day_num\n",
        "    return day_num\n",
        "  while month_num>1:\n",
        "    day_num=day_num + 31\n",
        "    if month_num>2:\n",
        "      day_num=day_num + 29\n",
        "    if month_num>3:\n",
        "      day_num=day_num + 31\n",
        "    if month_num>4:\n",
        "      day_num= day_num + 30\n",
        "    if month_num>5:\n",
        "      day_num= day_num + 31\n",
        "    if month_num>6:\n",
        "      day_num= day_num + 30\n",
        "    if month_num>7:\n",
        "      day_num= day_num +31\n",
        "    if month_num> 8:\n",
        "      day_num= day_num +31\n",
        "    if month_num>9:\n",
        "      day_num= day_num + 30\n",
        "    if month_num > 10:\n",
        "      day_num= day_num+31\n",
        "    if month_num>11:\n",
        "      day_num= day_num+30\n",
        "    return day_num #keep it in the while loop but don't put it under any if statements\n",
        "    #use while loop for every month other than jan and then add conditions (ie greater than two, greater than three, etc)\n",
        "      \n",
        "\n",
        "print(\"February 29th is the number\", month_day_to_number(2,29), \"day of 2020\")\n",
        "print(\"march 1 is the number\", month_day_to_number(3,1),\"day of 2020\")\n",
        "print(\"december 31 is the number\", month_day_to_number(12,31),\"day of 2020\") # output shouldd be 366 bc leap year was included here"
      ],
      "execution_count": 333,
      "outputs": [
        {
          "output_type": "stream",
          "text": [
            "February 29th is the number 60 day of 2020\n",
            "march 1 is the number 61 day of 2020\n",
            "december 31 is the number 366 day of 2020\n"
          ],
          "name": "stdout"
        }
      ]
    },
    {
      "cell_type": "code",
      "metadata": {
        "id": "qg3b_6ukeqrv",
        "outputId": "ebcd2552-e30a-4d77-cb82-c272e8a296fe",
        "colab": {
          "base_uri": "https://localhost:8080/",
          "height": 34
        }
      },
      "source": [
        "#Part Five month to number\n",
        "def month_to_num(month):\n",
        "  if month== \"January\":\n",
        "    return 1\n",
        "  if month== \"February\":\n",
        "    return 2\n",
        "  if month== \"March\":\n",
        "    return 3\n",
        "  if month== \"April\":\n",
        "    return 4\n",
        "  if month== \"May\":\n",
        "    return 5\n",
        "  if month== \"June\":\n",
        "    return 6\n",
        "  if month== \"July\":\n",
        "    return 7\n",
        "  if month== \"August\":\n",
        "    return 8\n",
        "  if month== \"September\":\n",
        "    return 9\n",
        "  if month== \"October\":\n",
        "    return 10\n",
        "  if month== \"November\":\n",
        "    return 11\n",
        "  if month== \"December\":\n",
        "    return 12\n",
        "\n",
        "\n",
        "print(\"March is the number\", month_to_num(\"March\"), \"month of the year\")\n"
      ],
      "execution_count": 366,
      "outputs": [
        {
          "output_type": "stream",
          "text": [
            "March is the number 3 month of the year\n"
          ],
          "name": "stdout"
        }
      ]
    },
    {
      "cell_type": "code",
      "metadata": {
        "id": "XhQ9DCIpgqJB",
        "outputId": "408264ef-cd31-4321-fff0-082a090793a8",
        "colab": {
          "base_uri": "https://localhost:8080/",
          "height": 68
        }
      },
      "source": [
        "#Part 6 pulling it all together \n",
        "def what_day_of_the_week(month_name,day_numb):\n",
        "  month_numb= month_to_num(month_name) \n",
        "  the_number= month_day_to_number(month_numb,day_numb) \n",
        "  return number_to_day(the_number) \n",
        "\n",
        "#first convert month_name to a number and store the number in a new variable\n",
        "#then, use the number of the month and the day number to find the days into the year, save that number in another new variable\n",
        "#then use the new variable to find the number to day, giving the day of the week.\n",
        "\n",
        "print(\"September 21st, 2020 is a\", what_day_of_the_week(\"September\", 21))\n",
        "print(\"October 31st, 2020 is a\", what_day_of_the_week(\"October\", 31))\n",
        "print(\"November 26th, 2020 is a\", what_day_of_the_week(\"November\", 26))"
      ],
      "execution_count": 380,
      "outputs": [
        {
          "output_type": "stream",
          "text": [
            "September 21st, 2020 is a Monday\n",
            "October 31st, 2020 is a Saturday\n",
            "November 26th, 2020 is a Thursday\n"
          ],
          "name": "stdout"
        }
      ]
    }
  ]
}