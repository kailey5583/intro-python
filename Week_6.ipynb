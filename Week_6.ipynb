{
  "nbformat": 4,
  "nbformat_minor": 0,
  "metadata": {
    "colab": {
      "name": "Week 6",
      "provenance": [],
      "authorship_tag": "ABX9TyPK9+fVUjMqTMeqrD955iBG",
      "include_colab_link": true
    },
    "kernelspec": {
      "name": "python3",
      "display_name": "Python 3"
    }
  },
  "cells": [
    {
      "cell_type": "markdown",
      "metadata": {
        "id": "view-in-github",
        "colab_type": "text"
      },
      "source": [
        "<a href=\"https://colab.research.google.com/github/kailey5583/intro-python/blob/master/Week_6.ipynb\" target=\"_parent\"><img src=\"https://colab.research.google.com/assets/colab-badge.svg\" alt=\"Open In Colab\"/></a>"
      ]
    },
    {
      "cell_type": "code",
      "metadata": {
        "id": "jPNRg42vVrji",
        "outputId": "dc2d6576-ebd0-44c7-e081-23fdde27f931",
        "colab": {
          "base_uri": "https://localhost:8080/",
          "height": 34
        }
      },
      "source": [
        "#Question 0\n",
        "hiya= [\"hello\", \"world\"]\n",
        "print(hiya)"
      ],
      "execution_count": 1,
      "outputs": [
        {
          "output_type": "stream",
          "text": [
            "['hello', 'world']\n"
          ],
          "name": "stdout"
        }
      ]
    },
    {
      "cell_type": "code",
      "metadata": {
        "id": "_ysASQKrnyl7",
        "outputId": "b6f1243b-390d-4187-e5ec-e9a61f03dfc1",
        "colab": {
          "base_uri": "https://localhost:8080/",
          "height": 119
        }
      },
      "source": [
        "#Question 1\n",
        "food_list= []\n",
        "food= input(\"Enter a food or press stop to exit\")\n",
        "\n",
        "while not food== \"stop\":\n",
        "    food_list.append(food)\n",
        "    food= input(\"Enter a food or press stop to exit\")\n",
        "print(food_list)\n"
      ],
      "execution_count": 4,
      "outputs": [
        {
          "output_type": "stream",
          "text": [
            "Enter a food or press stop to exitgarlic\n",
            "Enter a food or press stop to exitgrape\n",
            "Enter a food or press stop to exitsteak\n",
            "Enter a food or press stop to exitbread\n",
            "Enter a food or press stop to exitstop\n",
            "['garlic', 'grape', 'steak', 'bread']\n"
          ],
          "name": "stdout"
        }
      ]
    },
    {
      "cell_type": "code",
      "metadata": {
        "id": "0Rwj6Irpo7ea",
        "outputId": "649b4199-dcb3-46e3-d155-eb1be87d9076",
        "colab": {
          "base_uri": "https://localhost:8080/",
          "height": 136
        }
      },
      "source": [
        "#Question 2\n",
        "food_list= []\n",
        "food= input(\"Enter a food or type stop to exit\")\n",
        "\n",
        "while not food== \"stop\":\n",
        "    food_list.append(food)\n",
        "    food= input(\"Enter a food or type stop to exit\")\n",
        "delete= input(\"Enter a food you would like to delete, or press enter\")  #putting this outside of the while loop so the while loop instantly recognizes when food== \"stop\"\n",
        "if delete in food_list:          #delete is a food, and we have to see if it is in food_list. if it is, then we remove delete.\n",
        "  food_list.remove(delete)\n",
        "\n",
        "print(food_list)  \n",
        "    "
      ],
      "execution_count": 42,
      "outputs": [
        {
          "output_type": "stream",
          "text": [
            "Enter a food or type stop to exitapple\n",
            "Enter a food or type stop to exitgrape\n",
            "Enter a food or type stop to exitorange\n",
            "Enter a food or type stop to exitham\n",
            "Enter a food or type stop to exitstop\n",
            "Enter a food you would like to delete, or press enterorange\n",
            "['apple', 'grape', 'ham']\n"
          ],
          "name": "stdout"
        }
      ]
    },
    {
      "cell_type": "code",
      "metadata": {
        "id": "jFyDJ6yJ2PFN",
        "outputId": "07a7bbd9-f201-42be-c488-ee8cb3c08f23",
        "colab": {
          "base_uri": "https://localhost:8080/",
          "height": 255
        }
      },
      "source": [
        "#Question 3\n",
        "food_list= []\n",
        "food= input(\"Enter a food or type stop to exit\")\n",
        "\n",
        "while not food== \"stop\":\n",
        "    food_list.append(food)\n",
        "    food= input(\"Enter a food or type stop to exit\")\n",
        "\n",
        "num_food= len(food_list)\n",
        "for count in range(num_food):\n",
        "  o=\"olives\"\n",
        "  if o in food_list:\n",
        "    food_list.remove(o)\n",
        "\n",
        "delete= input(\"Enter a food you would like to delete, or press enter\")  \n",
        "if delete in food_list:         \n",
        "  food_list.remove(delete)\n",
        "\n",
        "print(food_list) "
      ],
      "execution_count": 45,
      "outputs": [
        {
          "output_type": "stream",
          "text": [
            "Enter a food or type stop to exitorange\n",
            "Enter a food or type stop to exitapple\n",
            "Enter a food or type stop to exitham\n",
            "Enter a food or type stop to exitturkey\n",
            "Enter a food or type stop to exitsteak\n",
            "Enter a food or type stop to exitolives\n",
            "Enter a food or type stop to exitgarlic bread\n",
            "Enter a food or type stop to exitasparagus\n",
            "Enter a food or type stop to exitlemon\n",
            "Enter a food or type stop to exitkiwi\n",
            "Enter a food or type stop to exitsquash\n",
            "Enter a food or type stop to exitstop\n",
            "Enter a food you would like to delete, or press enterorange\n",
            "['apple', 'ham', 'turkey', 'steak', 'garlic bread', 'asparagus', 'lemon', 'kiwi', 'squash']\n"
          ],
          "name": "stdout"
        }
      ]
    }
  ]
}