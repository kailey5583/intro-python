{
  "nbformat": 4,
  "nbformat_minor": 0,
  "metadata": {
    "colab": {
      "name": "Week 7 ",
      "provenance": [],
      "authorship_tag": "ABX9TyMXGUqrd3eDEn7wtpwYHRLH",
      "include_colab_link": true
    },
    "kernelspec": {
      "name": "python3",
      "display_name": "Python 3"
    }
  },
  "cells": [
    {
      "cell_type": "markdown",
      "metadata": {
        "id": "view-in-github",
        "colab_type": "text"
      },
      "source": [
        "<a href=\"https://colab.research.google.com/github/kailey5583/intro-python/blob/master/Week_7.ipynb\" target=\"_parent\"><img src=\"https://colab.research.google.com/assets/colab-badge.svg\" alt=\"Open In Colab\"/></a>"
      ]
    },
    {
      "cell_type": "code",
      "metadata": {
        "id": "pByq5gDAKTQC"
      },
      "source": [
        "# Problem 0\n",
        "hell0_w0rld= \"Hello World!\"\n",
        "print(hell0_w0rld)\n",
        "\n",
        "hell0_w0rld= hell0_w0rld.lower()\n",
        "print(hell0_w0rld)\n",
        "\n",
        "hell0_w0rld= hell0_w0rld.upper()\n",
        "print(hell0_w0rld)"
      ],
      "execution_count": null,
      "outputs": []
    },
    {
      "cell_type": "code",
      "metadata": {
        "id": "zh4iF7PPKYjz",
        "outputId": "d8254ac2-6b95-4a8c-99f6-5359516a94db",
        "colab": {
          "base_uri": "https://localhost:8080/",
          "height": 85
        }
      },
      "source": [
        "#Problem 1\n",
        "def hasVowels(string): \n",
        "  string=string.upper()\n",
        "  if \"A\" in string:\n",
        "    return True\n",
        "  if \"E\" in string:\n",
        "    return True \n",
        "  if \"I\" in string:\n",
        "    return True \n",
        "  if \"O\" in string:\n",
        "    return True \n",
        "  if \"U\" in string:\n",
        "    return True \n",
        "  else:\n",
        "    return False\n",
        "    \n",
        "    \n",
        "     \n",
        "\n",
        "  \n",
        "\n",
        "    \n",
        "word = \"berry\"\n",
        "not_word = \"fghjk\"   \n",
        "  \n",
        "if hasVowels(word):\n",
        "  print(\"The string\", word, \"has at least one vowel\")\n",
        "else:\n",
        "  print(\"The string\", word, \"does not have any vowels\")\n",
        "\n",
        "if hasVowels(not_word):\n",
        "  print(\"The string\", not_word, \"has at least one vowel\")\n",
        "else:\n",
        "  print(\"The string\", not_word, \"does not have any vowels\")  \n",
        "\n",
        "new_word= input(\"enter a word\")\n",
        "if hasVowels(new_word):\n",
        "  print(\"The string\",new_word, \"has at least one vowel\")\n",
        "else:\n",
        "  print(\"The string\", new_word, \"does not have any vowels\") "
      ],
      "execution_count": 99,
      "outputs": [
        {
          "output_type": "stream",
          "text": [
            "The string berry has at least one vowel\n",
            "The string fghjk does not have any vowels\n",
            "enter a wordbug \n",
            "The string bug  has at least one vowel\n"
          ],
          "name": "stdout"
        }
      ]
    },
    {
      "cell_type": "code",
      "metadata": {
        "id": "ao60SdFo9LON",
        "outputId": "b5fe41c8-64b2-4251-c24e-6f43742d3c07",
        "colab": {
          "base_uri": "https://localhost:8080/",
          "height": 85
        }
      },
      "source": [
        "#Problem 2\n",
        "\n",
        "while True:\n",
        "  words= input(\"enter a word with vowels\")\n",
        "  if hasVowels(words):\n",
        "    print(words, \"has at least one vowel\")\n",
        "    break\n",
        "  else: \n",
        "    words= input(\"enter a word with vowels\")"
      ],
      "execution_count": 102,
      "outputs": [
        {
          "output_type": "stream",
          "text": [
            "enter a word with vowelsbbb\n",
            "enter a word with vowelsfff\n",
            "enter a word with vowelssus\n",
            "sus has at least one vowel\n"
          ],
          "name": "stdout"
        }
      ]
    },
    {
      "cell_type": "code",
      "metadata": {
        "id": "X3q18P_A-nDQ",
        "outputId": "e5a9b3a2-704e-4082-e925-51fddedd3f9e",
        "colab": {
          "base_uri": "https://localhost:8080/",
          "height": 51
        }
      },
      "source": [
        "#Problem 3\n",
        "def countVowels(w): \n",
        "  vow3l= [\"a\", \"e\", \"i\", \"o\", \"u\"]\n",
        "  vowel_count= 0\n",
        "  for vowel in w:\n",
        "    if vowel in vow3l:\n",
        "      vowel_count= vowel_count + 1\n",
        "  return vowel_count\n",
        "\n",
        "name1 = \"matthew\"\n",
        "name2 = \"lepinski\"\n",
        "\n",
        "count1 = countVowels(name1)\n",
        "count2 = countVowels(name2)\n",
        "\n",
        "print(name1, \"has\", count1, \"vowels in it\")\n",
        "print(name2, \"has\", count2, \"vowels in it\")"
      ],
      "execution_count": 121,
      "outputs": [
        {
          "output_type": "stream",
          "text": [
            "matthew has 2 vowels in it\n",
            "lepinski has 3 vowels in it\n"
          ],
          "name": "stdout"
        }
      ]
    },
    {
      "cell_type": "code",
      "metadata": {
        "id": "c1ADBJ7f-yz8",
        "outputId": "e341ceb2-945f-4a77-a875-6f57144d34f0",
        "colab": {
          "base_uri": "https://localhost:8080/",
          "height": 136
        }
      },
      "source": [
        "#Problem 4\n",
        "word_list= []\n",
        "stop= 'stop'\n",
        "stop= stop.lower()\n",
        "new_word= input(\"enter a word\")\n",
        "while new_word.lower() != stop:\n",
        "  word_list.append(new_word)\n",
        "  new_word= input(\"enter a word or type stop to end\")\n",
        "print(word_list)"
      ],
      "execution_count": 117,
      "outputs": [
        {
          "output_type": "stream",
          "text": [
            "enter a worddog\n",
            "enter a word or type stop to endcat\n",
            "enter a word or type stop to endcow\n",
            "enter a word or type stop to endpig\n",
            "enter a word or type stop to endsheep\n",
            "enter a word or type stop to endsTop\n",
            "['dog', 'cat', 'cow', 'pig', 'sheep']\n"
          ],
          "name": "stdout"
        }
      ]
    },
    {
      "cell_type": "code",
      "metadata": {
        "id": "nHpRbdhiJ4-w"
      },
      "source": [
        ""
      ],
      "execution_count": null,
      "outputs": []
    },
    {
      "cell_type": "code",
      "metadata": {
        "id": "dPvEwhn9-z9O",
        "outputId": "5702c8b2-b547-45f5-f20d-28d276043621",
        "colab": {
          "base_uri": "https://localhost:8080/",
          "height": 102
        }
      },
      "source": [
        "#Problem 5\n",
        "word_list= []\n",
        "stop= 'stop'\n",
        "stop= stop.lower()\n",
        "new_word= input(\"enter a word\")\n",
        "while new_word.lower() != stop:\n",
        "  word_list.append(new_word)\n",
        "  new_word= input(\"enter a word or type stop to end\")\n",
        "\n",
        "for allletters in word_list:\n",
        "  totalvowels=totalvowels+countVowels(allletters) - 1 #what's a better way to do this other than subtracting 1 for stop?# \n",
        "print(totalvowels)\n",
        "\n",
        "\n"
      ],
      "execution_count": 156,
      "outputs": [
        {
          "output_type": "stream",
          "text": [
            "enter a wordcat\n",
            "enter a word or type stop to endpig\n",
            "enter a word or type stop to endcow\n",
            "enter a word or type stop to endstop\n",
            "4\n"
          ],
          "name": "stdout"
        }
      ]
    }
  ]
}